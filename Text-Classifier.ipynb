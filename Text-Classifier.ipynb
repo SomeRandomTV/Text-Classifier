{
 "nbformat": 4,
 "nbformat_minor": 0,
 "metadata": {
  "colab": {
   "provenance": []
  },
  "kernelspec": {
   "name": "python3",
   "display_name": "Python 3"
  },
  "language_info": {
   "name": "python"
  }
 },
 "cells": [
  {
   "metadata": {
    "ExecuteTime": {
     "end_time": "2025-06-20T00:21:13.140435Z",
     "start_time": "2025-06-20T00:17:57.543946Z"
    }
   },
   "cell_type": "code",
   "source": [
    "# Import necessary libraries for data manipulation, visualization, and machine learning\n",
    "import pandas as pd\n",
    "import matplotlib.pyplot as plt\n",
    "import seaborn as sns\n",
    "\n",
    "# Import spaCy here\n",
    "import spacy\n",
    "\n",
    "# Sklearn libraries for machine learning and text processing\n",
    "from sklearn.model_selection import train_test_split\n",
    "\n",
    "# NLTK libraries for text processing (lemmatization, stemming, stopwords, POS tagging)\n",
    "import nltk\n",
    "\n",
    "# Set up visualization\n",
    "sns.set_style(\"whitegrid\")\n",
    "plt.style.use(\"fivethirtyeight\")\n",
    "\n",
    "# Download necessary NLTK resources for text processing\n",
    "nltk.download('wordnet')  # WordNet for lemmatization\n",
    "nltk.download('omw-1.4')  # Open Multilingual Wordnet\n",
    "nltk.download('punkt')  # Tokenizer\n",
    "nltk.download('stopwords')  # Stopwords for text cleaning\n",
    "nltk.download('averaged_perceptron_tagger')  # POS tagger for part-of-speech tagging\n",
    "nltk.download('tagsets_json')  # Tagset resource\n",
    "\n"
   ],
   "outputs": [
    {
     "name": "stderr",
     "output_type": "stream",
     "text": [
      "[nltk_data] Downloading package wordnet to /Users/retr0/nltk_data...\n",
      "[nltk_data]   Package wordnet is already up-to-date!\n",
      "[nltk_data] Downloading package omw-1.4 to /Users/retr0/nltk_data...\n",
      "[nltk_data]   Package omw-1.4 is already up-to-date!\n",
      "[nltk_data] Downloading package punkt to /Users/retr0/nltk_data...\n",
      "[nltk_data]   Package punkt is already up-to-date!\n",
      "[nltk_data] Downloading package stopwords to /Users/retr0/nltk_data...\n",
      "[nltk_data]   Package stopwords is already up-to-date!\n",
      "[nltk_data] Downloading package averaged_perceptron_tagger to\n",
      "[nltk_data]     /Users/retr0/nltk_data...\n",
      "[nltk_data]   Package averaged_perceptron_tagger is already up-to-\n",
      "[nltk_data]       date!\n",
      "[nltk_data] Downloading package tagsets_json to\n",
      "[nltk_data]     /Users/retr0/nltk_data...\n",
      "[nltk_data]   Package tagsets_json is already up-to-date!\n"
     ]
    },
    {
     "data": {
      "text/plain": [
       "True"
      ]
     },
     "execution_count": 5,
     "metadata": {},
     "output_type": "execute_result"
    }
   ],
   "execution_count": 5
  },
  {
   "cell_type": "markdown",
   "source": [
    "1. Data loading and exploration"
   ],
   "metadata": {
    "id": "y5jsQZoZRn7U"
   }
  },
  {
   "cell_type": "code",
   "source": [
    "#Loading the training set\n",
    "df_train = pd.read_excel('data/AI_vs_huam_train_dataset.xlsx')\n",
    "\n",
    "#Check shape\n",
    "print(\"Dataset shape (rows, columns):\", df_train.shape)\n",
    "\n",
    "#Check Data types\n",
    "print(\"\\nColumn data types:\")\n",
    "print(df_train.dtypes)\n",
    "\n",
    "#View Table\n",
    "print(\"\\nSample rows:\")\n",
    "print(df_train.head())"
   ],
   "metadata": {
    "colab": {
     "base_uri": "https://localhost:8080/"
    },
    "id": "5ubVmuaCFBkc",
    "outputId": "be991cc5-f3f5-4ae8-9195-fe8da7783a5f",
    "ExecuteTime": {
     "end_time": "2025-06-20T00:21:13.144211Z",
     "start_time": "2025-06-20T00:17:59.165428Z"
    }
   },
   "outputs": [
    {
     "name": "stdout",
     "output_type": "stream",
     "text": [
      "Dataset shape (rows, columns): (3728, 2)\n",
      "\n",
      "Column data types:\n",
      "essay    object\n",
      "label     int64\n",
      "dtype: object\n",
      "\n",
      "Sample rows:\n",
      "                                               essay  label\n",
      "0  International sports events require the most w...      0\n",
      "1  Globalisation has become a significant aspect ...      0\n",
      "2  There is an ever-increasing number of bullying...      0\n",
      "3  It is commonly believed, that companies should...      0\n",
      "4  Despite knowing about the adverse effects of c...      0\n"
     ]
    }
   ],
   "execution_count": 6
  },
  {
   "cell_type": "code",
   "source": [
    "#Number of samples and class counts\n",
    "n_samples = len(df_train)\n",
    "class_counts = df_train[\"label\"].value_counts()\n",
    "print(f\"Samples: {n_samples}\")\n",
    "print(\"Class counts:\")\n",
    "print(class_counts)"
   ],
   "metadata": {
    "colab": {
     "base_uri": "https://localhost:8080/"
    },
    "id": "kYs6FFcCoZYl",
    "outputId": "8de72a19-f577-4267-817c-5106655c7a6e",
    "ExecuteTime": {
     "end_time": "2025-06-20T00:21:13.144634Z",
     "start_time": "2025-06-20T00:17:59.569200Z"
    }
   },
   "outputs": [
    {
     "name": "stdout",
     "output_type": "stream",
     "text": [
      "Samples: 3728\n",
      "Class counts:\n",
      "label\n",
      "0    1864\n",
      "1    1864\n",
      "Name: count, dtype: int64\n"
     ]
    }
   ],
   "execution_count": 7
  },
  {
   "cell_type": "code",
   "source": [
    "#One exerpt per class\n",
    "print(\"\\nSample text exerpts:\")\n",
    "for lbl in df_train[\"label\"].unique():\n",
    "    excerpt = df_train[df_train[\"label\"]==lbl][\"essay\"].iloc[0][:200].replace('\\n',' ')\n",
    "    print(f\" Label {lbl} → {excerpt}\")"
   ],
   "metadata": {
    "colab": {
     "base_uri": "https://localhost:8080/"
    },
    "id": "A1iY6PQgoxcR",
    "outputId": "4b06067c-5a3e-4b06-e028-1fd8e7024e54",
    "ExecuteTime": {
     "end_time": "2025-06-20T00:21:13.144922Z",
     "start_time": "2025-06-20T00:17:59.600974Z"
    }
   },
   "outputs": [
    {
     "name": "stdout",
     "output_type": "stream",
     "text": [
      "\n",
      "Sample text exerpts:\n",
      " Label 0 → International sports events require the most well-trained athletes for each country, in order to achieve this goal countries make an effort to build infrastructure designed to train top athletes. Alth\n",
      " Label 1 → International sports events demand that countries field their most highly trained athletes, which is why many nations invest in specialized facilities to help their top performers succeed. While this \n"
     ]
    }
   ],
   "execution_count": 8
  },
  {
   "cell_type": "code",
   "source": [
    "#Dataset Shape table\n",
    "df_shape = pd.DataFrame({\n",
    "    \"Metric\": [\"Rows\", \"Columns\"],\n",
    "    \"Value\": [df_train.shape[0], df_train.shape[1]]\n",
    "})\n",
    "print(\"\\n== Dataset Shape ==\")\n",
    "print(df_shape)\n",
    "\n",
    "df_dtypes = df_train.dtypes.reset_index()\n",
    "df_dtypes.columns = [\"Column\", \"Dtype\"]\n",
    "print(\"\\n== Data Types ==\")\n",
    "print(df_dtypes)\n",
    "\n",
    "class_counts_df = class_counts.reset_index()\n",
    "class_counts_df.columns = [\"Class\", \"Count\"]\n",
    "print(\"\\n== Class Counts ==\")\n",
    "print(class_counts_df)\n",
    "\n",
    "plt.figure(figsize=(6,4))\n",
    "sns.countplot(x=\"label\", data=df_train)\n",
    "plt.title(\"Class Distribution\")\n",
    "plt.xlabel(\"Label\")\n",
    "plt.ylabel(\"Count\")\n",
    "plt.show()"
   ],
   "metadata": {
    "colab": {
     "base_uri": "https://localhost:8080/",
     "height": 703
    },
    "id": "bIV-SUTxpWxY",
    "outputId": "2daea049-68c0-436e-cade-5b7c382a9255",
    "ExecuteTime": {
     "end_time": "2025-06-20T00:21:13.145222Z",
     "start_time": "2025-06-20T00:17:59.636254Z"
    }
   },
   "outputs": [
    {
     "name": "stdout",
     "output_type": "stream",
     "text": [
      "\n",
      "== Dataset Shape ==\n",
      "    Metric  Value\n",
      "0     Rows   3728\n",
      "1  Columns      2\n",
      "\n",
      "== Data Types ==\n",
      "  Column   Dtype\n",
      "0  essay  object\n",
      "1  label   int64\n",
      "\n",
      "== Class Counts ==\n",
      "   Class  Count\n",
      "0      0   1864\n",
      "1      1   1864\n"
     ]
    },
    {
     "data": {
      "text/plain": [
       "<Figure size 600x400 with 1 Axes>"
      ],
      "image/png": "[encoded data removed]"
     },
     "metadata": {},
     "output_type": "display_data"
    }
   ],
   "execution_count": 9
  },
  {
   "cell_type": "markdown",
   "source": [
    "2. Test preprocessing functions"
   ],
   "metadata": {
    "id": "F1wf1JehRY-u"
   }
  },
  {
   "cell_type": "code",
   "source": [
    "#Stopword Removal\n",
    "from nltk.corpus import stopwords\n",
    "sw = set(stopwords.words('english'))\n",
    "\n",
    "def remove_sw(text):\n",
    "  tokens = text.split()\n",
    "  kept = [t for t in tokens if t.lower() not in sw]\n",
    "  return \" \".join(kept)\n",
    "\n",
    "simple = df_train[\"essay\"].iloc[0]\n",
    "print(\"Before:\", simple[:200])\n",
    "print(\"After:\", remove_sw(simple)[:300])"
   ],
   "metadata": {
    "id": "hHbA9YUZtRPE",
    "ExecuteTime": {
     "end_time": "2025-06-20T00:21:13.145464Z",
     "start_time": "2025-06-20T00:17:59.805945Z"
    }
   },
   "outputs": [
    {
     "name": "stdout",
     "output_type": "stream",
     "text": [
      "Before: International sports events require the most well-trained athletes for each country, in order to achieve this goal countries make an effort to build infrastructure designed to train top athletes. Alth\n",
      "After: International sports events require well-trained athletes country, order achieve goal countries make effort build infrastructure designed train top athletes. Although policy indeed make fewer sports facilities ordinary people, investing best athletes vital develop competitive sports performances cou\n"
     ]
    }
   ],
   "execution_count": 10
  },
  {
   "cell_type": "code",
   "source": [
    "#Table for Stopword removal sample\n",
    "\n",
    "sample = df_train[\"essay\"].iloc[0]\n",
    "\n",
    "sw_df = pd.DataFrame({\n",
    "    \"Stage\":   [\"Before\", \"After\"],\n",
    "    \"Excerpt\": [\n",
    "        sample[:80].replace(\"\\n\",\" \"),\n",
    "        remove_sw(sample)[:80].replace(\"\\n\",\" \")\n",
    "    ]\n",
    "})\n",
    "print(\"\\n== Stop-word Removal Sample ==\")\n",
    "print(sw_df)\n",
    "\n",
    "vocab_before = set(\" \".join(df_train[\"essay\"]).split())\n",
    "vocab_after  = set(\" \".join(df_train[\"essay\"].apply(remove_sw)).split())\n",
    "print(\"\\nVocab before:\", len(vocab_before))\n",
    "print(\"Vocab after: \", len(vocab_after))\n"
   ],
   "metadata": {
    "colab": {
     "base_uri": "https://localhost:8080/"
    },
    "id": "uww8DJIYI4kY",
    "outputId": "bc77df21-f0c4-4a82-c5d3-cb62d94631ac",
    "ExecuteTime": {
     "end_time": "2025-06-20T00:18:00.147525Z",
     "start_time": "2025-06-20T00:17:59.836494Z"
    }
   },
   "outputs": [
    {
     "name": "stdout",
     "output_type": "stream",
     "text": [
      "\n",
      "== Stop-word Removal Sample ==\n",
      "    Stage                                            Excerpt\n",
      "0  Before  International sports events require the most w...\n",
      "1   After  International sports events require well-train...\n",
      "\n",
      "Vocab before: 42702\n",
      "Vocab after:  42333\n"
     ]
    }
   ],
   "execution_count": 11
  },
  {
   "cell_type": "code",
   "source": [
    "from nltk.stem import PorterStemmer, SnowballStemmer, LancasterStemmer\n",
    "\n",
    "ps = PorterStemmer()\n",
    "sb = SnowballStemmer(\"english\")\n",
    "ls = LancasterStemmer()\n",
    "words = [\"running\", \"ran\", \"runs\", \"walking\", \"lying\"]\n",
    "\n",
    "stems_df = pd.DataFrame({\n",
    "    \"Word\":      words,\n",
    "    \"Porter\":    [ps.stem(w) for w in words],\n",
    "    \"Snowball\":  [sb.stem(w) for w in words],\n",
    "    \"Lancaster\": [ls.stem(w) for w in words],\n",
    "})\n",
    "print(\"\\n== Stemming Examples ==\")\n",
    "print(stems_df)"
   ],
   "metadata": {
    "colab": {
     "base_uri": "https://localhost:8080/"
    },
    "id": "sa8bNdPTJZ0S",
    "outputId": "2126a50c-d878-4ce1-d1dc-b702018f8174",
    "ExecuteTime": {
     "end_time": "2025-06-20T00:18:00.200843Z",
     "start_time": "2025-06-20T00:18:00.196212Z"
    }
   },
   "outputs": [
    {
     "name": "stdout",
     "output_type": "stream",
     "text": [
      "\n",
      "== Stemming Examples ==\n",
      "      Word Porter Snowball Lancaster\n",
      "0  running    run      run       run\n",
      "1      ran    ran      ran       ran\n",
      "2     runs    run      run       run\n",
      "3  walking   walk     walk      walk\n",
      "4    lying    lie      lie     lying\n"
     ]
    }
   ],
   "execution_count": 12
  },
  {
   "cell_type": "code",
   "source": [
    "from nltk.stem import WordNetLemmatizer\n",
    "\n",
    "wn  = WordNetLemmatizer()\n",
    "nlp = spacy.load(\"en_core_web_sm\")\n",
    "\n",
    "lemmas_df = pd.DataFrame({\n",
    "    \"Word\":        words,\n",
    "    \"NLTK Lemma\":  [wn.lemmatize(w) for w in words],\n",
    "    \"spaCy Lemma\": [nlp(w)[0].lemma_ for w in words],\n",
    "})\n",
    "print(\"\\n== Lemmatization Examples ==\")\n",
    "print(lemmas_df)\n",
    "\n",
    "df_train[\"processed\"] = df_train[\"essay\"].apply(remove_sw)\n",
    "\n",
    "print(\"Raw vs. Processed sample:\")\n",
    "print(df_train[[\"essay\", \"processed\"]].head(1).T)\n",
    "\n",
    "# X_bow = cv.fit_transform(df_train[\"processed\"])\n",
    "# X_tfidf = tfidf.fit_transform(df_train[\"processed\"])\n",
    "\n",
    "def preprocess_text(text):\n",
    "    no_sw = remove_sw(text)\n",
    "    tokens = no_sw.split()\n",
    "    stems  = [ps.stem(t) for t in tokens]\n",
    "    return \" \".join(stems)\n",
    "\n",
    "df_train[\"processed\"] = df_train[\"essay\"].apply(preprocess_text)"
   ],
   "metadata": {
    "id": "cg6IiahEKmZ5",
    "ExecuteTime": {
     "end_time": "2025-06-20T00:18:08.831277Z",
     "start_time": "2025-06-20T00:18:00.255959Z"
    }
   },
   "outputs": [
    {
     "name": "stdout",
     "output_type": "stream",
     "text": [
      "\n",
      "== Lemmatization Examples ==\n",
      "      Word NLTK Lemma spaCy Lemma\n",
      "0  running    running         run\n",
      "1      ran        ran         run\n",
      "2     runs        run         run\n",
      "3  walking    walking        walk\n",
      "4    lying      lying         lie\n",
      "Raw vs. Processed sample:\n",
      "                                                           0\n",
      "essay      International sports events require the most w...\n",
      "processed  International sports events require well-train...\n"
     ]
    }
   ],
   "execution_count": 13
  },
  {
   "cell_type": "code",
   "source": [
    "#define X and Y\n",
    "X = df_train[\"processed\"]\n",
    "y = df_train[\"label\"]\n"
   ],
   "metadata": {
    "id": "dnPfxgvvjvUf",
    "ExecuteTime": {
     "end_time": "2025-06-20T00:18:08.883630Z",
     "start_time": "2025-06-20T00:18:08.881369Z"
    }
   },
   "outputs": [],
   "execution_count": 14
  },
  {
   "cell_type": "code",
   "source": [
    "#split train\n",
    "X_train, X_val, y_train, y_val = train_test_split(X, y, test_size=0.2, random_state=42)"
   ],
   "metadata": {
    "id": "NR0VOPSej6j9",
    "ExecuteTime": {
     "end_time": "2025-06-20T00:18:08.936065Z",
     "start_time": "2025-06-20T00:18:08.932280Z"
    }
   },
   "outputs": [],
   "execution_count": 15
  },
  {
   "cell_type": "markdown",
   "source": [
    "3. Feature Extraction"
   ],
   "metadata": {
    "id": "HFQelx1aRKib"
   }
  },
  {
   "cell_type": "code",
   "source": [
    "#using pandas here\n",
    "from sklearn.feature_extraction.text import CountVectorizer, TfidfVectorizer\n",
    "\n",
    "cv = CountVectorizer(token_pattern=r\"\\b\\w+\\b\",\n",
    "     ngram_range=(1,2),\n",
    "     max_features=5000,\n",
    "     min_df=5,\n",
    "     max_df=0.8)\n",
    "\n",
    "X_bow = cv.fit_transform(df_train[\"processed\"])\n",
    "X_train_data = cv.fit_transform(X_train) #vectorized data\n",
    "X_val_data = cv.transform(X_val)"
   ],
   "metadata": {
    "id": "8d7SaCVTQTDb",
    "ExecuteTime": {
     "end_time": "2025-06-20T00:18:11.645745Z",
     "start_time": "2025-06-20T00:18:08.985546Z"
    }
   },
   "outputs": [],
   "execution_count": 16
  },
  {
   "cell_type": "code",
   "source": [
    "print(\"BoW matrix shape (docs × features):\", X_bow.shape)\n",
    "bow_shape_df = pd.DataFrame({\n",
    "    \"Metric\":  [\"Documents\", \"Features\"],\n",
    "    \"Value\":   [X_bow.shape[0], X_bow.shape[1]]\n",
    "})\n",
    "print(\"\\n== BoW Shape ==\")\n",
    "print(bow_shape_df)"
   ],
   "metadata": {
    "id": "sf9YHHZTQveY",
    "ExecuteTime": {
     "end_time": "2025-06-20T00:18:11.708011Z",
     "start_time": "2025-06-20T00:18:11.704144Z"
    }
   },
   "outputs": [
    {
     "name": "stdout",
     "output_type": "stream",
     "text": [
      "BoW matrix shape (docs × features): (3728, 5000)\n",
      "\n",
      "== BoW Shape ==\n",
      "      Metric  Value\n",
      "0  Documents   3728\n",
      "1   Features   5000\n"
     ]
    }
   ],
   "execution_count": 17
  },
  {
   "cell_type": "code",
   "source": [
    "feat10 = cv.get_feature_names_out()[:10]\n",
    "feat_df = pd.DataFrame({\"First 10 Features\": feat10})\n",
    "print(\"\\n== Sample BoW Features ==\")\n",
    "print(feat_df)"
   ],
   "metadata": {
    "id": "g213L74QomNe",
    "ExecuteTime": {
     "end_time": "2025-06-20T00:18:11.771168Z",
     "start_time": "2025-06-20T00:18:11.764922Z"
    }
   },
   "outputs": [
    {
     "name": "stdout",
     "output_type": "stream",
     "text": [
      "\n",
      "== Sample BoW Features ==\n",
      "  First 10 Features\n",
      "0               000\n",
      "1                 1\n",
      "2                10\n",
      "3               100\n",
      "4                19\n",
      "5                 2\n",
      "6                20\n",
      "7                 3\n",
      "8                30\n",
      "9                 4\n"
     ]
    }
   ],
   "execution_count": 18
  },
  {
   "cell_type": "code",
   "source": [
    "tfidf = TfidfVectorizer(\n",
    "    token_pattern=r\"\\b\\w+\\b\",\n",
    "    ngram_range=(1,3),    # unigrams + bigrams + trigrams\n",
    "    max_features=5000,\n",
    "    min_df=5,\n",
    "    max_df=0.8\n",
    ")\n",
    "\n",
    "X_tfidf = tfidf.fit_transform(df_train[\"processed\"] if \"processed\" in df_train else df_train[\"essay\"])\n",
    "\n",
    "#Matrix shape\n",
    "print(\"\\nTF-IDF matrix shape (docs × features):\", X_tfidf.shape)\n",
    "tfidf_shape_df = pd.DataFrame({\n",
    "    \"Metric\":  [\"Documents\", \"Features\"],\n",
    "    \"Value\":   [X_tfidf.shape[0], X_tfidf.shape[1]]\n",
    "})\n",
    "print(\"\\n== TF-IDF Shape ==\")\n",
    "print(tfidf_shape_df)\n",
    "\n",
    "#Sample feature names\n",
    "tf10 = tfidf.get_feature_names_out()[:10]\n",
    "tfidf_feat_df = pd.DataFrame({\"First 10 TF-IDF Features\": tf10})\n",
    "print(\"\\n== Sample TF-IDF Features ==\")\n",
    "print(tfidf_feat_df)"
   ],
   "metadata": {
    "id": "rpquF0zMopDb",
    "ExecuteTime": {
     "end_time": "2025-06-20T00:18:15.628279Z",
     "start_time": "2025-06-20T00:18:11.839885Z"
    }
   },
   "outputs": [
    {
     "name": "stdout",
     "output_type": "stream",
     "text": [
      "\n",
      "TF-IDF matrix shape (docs × features): (3728, 5000)\n",
      "\n",
      "== TF-IDF Shape ==\n",
      "      Metric  Value\n",
      "0  Documents   3728\n",
      "1   Features   5000\n",
      "\n",
      "== Sample TF-IDF Features ==\n",
      "  First 10 TF-IDF Features\n",
      "0                      000\n",
      "1                        1\n",
      "2                       10\n",
      "3                      100\n",
      "4                       19\n",
      "5                        2\n",
      "6                       20\n",
      "7                        3\n",
      "8                       30\n",
      "9                        4\n"
     ]
    }
   ],
   "execution_count": 19
  },
  {
   "cell_type": "markdown",
   "source": [
    "4. Model training and hyperparameter tuning"
   ],
   "metadata": {
    "id": "DUisFlCHR0_S"
   }
  },
  {
   "cell_type": "code",
   "source": [
    "from sklearn.svm import SVC\n",
    "from sklearn.model_selection import GridSearchCV\n",
    "#rbf goes to its own function\n",
    "params = {\"kernel\": [\"linear\", \"rbf\"], \"C\":[0.1,1,10]}\n",
    "svc = GridSearchCV(SVC(), params, cv=5, scoring=\"f1_macro\")\n",
    "svc.fit(X_tfidf, df_train[\"label\"])\n",
    "print(\"Best SVM:\", svc.best_params_)"
   ],
   "metadata": {
    "id": "IWjo-0axSkO3",
    "ExecuteTime": {
     "end_time": "2025-06-20T00:21:12.156595Z",
     "start_time": "2025-06-20T00:18:15.690077Z"
    }
   },
   "outputs": [
    {
     "name": "stdout",
     "output_type": "stream",
     "text": [
      "Best SVM: {'C': 1, 'kernel': 'linear'}\n"
     ]
    }
   ],
   "execution_count": 20
  },
  {
   "cell_type": "code",
   "source": [
    "from sklearn.tree import DecisionTreeClassifier\n",
    "from sklearn.model_selection import GridSearchCV\n",
    "\n",
    "params = {\n",
    "    \"criterion\":            [\"gini\", \"entropy\"],\n",
    "    \"max_depth\":            [None, 10, 20],\n",
    "    \"min_samples_split\":    [2, 5],\n",
    "    \"min_samples_leaf\":     [1, 2],       # ← corrected\n",
    "}\n",
    "\n",
    "dt = GridSearchCV(\n",
    "    DecisionTreeClassifier(),\n",
    "    param_grid=params,\n",
    "    cv=5,\n",
    "    scoring=\"f1_macro\",\n",
    "    verbose=3,\n",
    ")\n",
    "dt.fit(X_bow, df_train[\"label\"])\n",
    "print(\"Best DT:\", dt.best_params_)"
   ],
   "metadata": {
    "id": "xCxslBOCTQRR",
    "ExecuteTime": {
     "end_time": "2025-06-20T00:24:59.170563Z",
     "start_time": "2025-06-20T00:24:40.080307Z"
    }
   },
   "outputs": [
    {
     "name": "stdout",
     "output_type": "stream",
     "text": [
      "Fitting 5 folds for each of 24 candidates, totalling 120 fits\n",
      "[CV 1/5] END criterion=gini, max_depth=None, min_samples_leaf=1, min_samples_split=2;, score=0.834 total time=   0.2s\n",
      "[CV 2/5] END criterion=gini, max_depth=None, min_samples_leaf=1, min_samples_split=2;, score=0.881 total time=   0.2s\n",
      "[CV 3/5] END criterion=gini, max_depth=None, min_samples_leaf=1, min_samples_split=2;, score=0.969 total time=   0.3s\n",
      "[CV 4/5] END criterion=gini, max_depth=None, min_samples_leaf=1, min_samples_split=2;, score=0.957 total time=   0.3s\n",
      "[CV 5/5] END criterion=gini, max_depth=None, min_samples_leaf=1, min_samples_split=2;, score=0.949 total time=   0.3s\n",
      "[CV 1/5] END criterion=gini, max_depth=None, min_samples_leaf=1, min_samples_split=5;, score=0.835 total time=   0.2s\n",
      "[CV 2/5] END criterion=gini, max_depth=None, min_samples_leaf=1, min_samples_split=5;, score=0.889 total time=   0.3s\n",
      "[CV 3/5] END criterion=gini, max_depth=None, min_samples_leaf=1, min_samples_split=5;, score=0.965 total time=   0.3s\n",
      "[CV 4/5] END criterion=gini, max_depth=None, min_samples_leaf=1, min_samples_split=5;, score=0.958 total time=   0.3s\n",
      "[CV 5/5] END criterion=gini, max_depth=None, min_samples_leaf=1, min_samples_split=5;, score=0.953 total time=   0.3s\n",
      "[CV 1/5] END criterion=gini, max_depth=None, min_samples_leaf=2, min_samples_split=2;, score=0.830 total time=   0.2s\n",
      "[CV 2/5] END criterion=gini, max_depth=None, min_samples_leaf=2, min_samples_split=2;, score=0.889 total time=   0.2s\n",
      "[CV 3/5] END criterion=gini, max_depth=None, min_samples_leaf=2, min_samples_split=2;, score=0.952 total time=   0.2s\n",
      "[CV 4/5] END criterion=gini, max_depth=None, min_samples_leaf=2, min_samples_split=2;, score=0.953 total time=   0.3s\n",
      "[CV 5/5] END criterion=gini, max_depth=None, min_samples_leaf=2, min_samples_split=2;, score=0.945 total time=   0.2s\n",
      "[CV 1/5] END criterion=gini, max_depth=None, min_samples_leaf=2, min_samples_split=5;, score=0.823 total time=   0.2s\n",
      "[CV 2/5] END criterion=gini, max_depth=None, min_samples_leaf=2, min_samples_split=5;, score=0.890 total time=   0.2s\n",
      "[CV 3/5] END criterion=gini, max_depth=None, min_samples_leaf=2, min_samples_split=5;, score=0.957 total time=   0.2s\n",
      "[CV 4/5] END criterion=gini, max_depth=None, min_samples_leaf=2, min_samples_split=5;, score=0.958 total time=   0.2s\n",
      "[CV 5/5] END criterion=gini, max_depth=None, min_samples_leaf=2, min_samples_split=5;, score=0.952 total time=   0.2s\n",
      "[CV 1/5] END criterion=gini, max_depth=10, min_samples_leaf=1, min_samples_split=2;, score=0.843 total time=   0.1s\n",
      "[CV 2/5] END criterion=gini, max_depth=10, min_samples_leaf=1, min_samples_split=2;, score=0.887 total time=   0.1s\n",
      "[CV 3/5] END criterion=gini, max_depth=10, min_samples_leaf=1, min_samples_split=2;, score=0.962 total time=   0.1s\n",
      "[CV 4/5] END criterion=gini, max_depth=10, min_samples_leaf=1, min_samples_split=2;, score=0.969 total time=   0.1s\n",
      "[CV 5/5] END criterion=gini, max_depth=10, min_samples_leaf=1, min_samples_split=2;, score=0.957 total time=   0.1s\n",
      "[CV 1/5] END criterion=gini, max_depth=10, min_samples_leaf=1, min_samples_split=5;, score=0.852 total time=   0.1s\n",
      "[CV 2/5] END criterion=gini, max_depth=10, min_samples_leaf=1, min_samples_split=5;, score=0.893 total time=   0.1s\n",
      "[CV 3/5] END criterion=gini, max_depth=10, min_samples_leaf=1, min_samples_split=5;, score=0.965 total time=   0.1s\n",
      "[CV 4/5] END criterion=gini, max_depth=10, min_samples_leaf=1, min_samples_split=5;, score=0.972 total time=   0.1s\n",
      "[CV 5/5] END criterion=gini, max_depth=10, min_samples_leaf=1, min_samples_split=5;, score=0.960 total time=   0.1s\n",
      "[CV 1/5] END criterion=gini, max_depth=10, min_samples_leaf=2, min_samples_split=2;, score=0.839 total time=   0.1s\n",
      "[CV 2/5] END criterion=gini, max_depth=10, min_samples_leaf=2, min_samples_split=2;, score=0.889 total time=   0.1s\n",
      "[CV 3/5] END criterion=gini, max_depth=10, min_samples_leaf=2, min_samples_split=2;, score=0.960 total time=   0.1s\n",
      "[CV 4/5] END criterion=gini, max_depth=10, min_samples_leaf=2, min_samples_split=2;, score=0.972 total time=   0.1s\n",
      "[CV 5/5] END criterion=gini, max_depth=10, min_samples_leaf=2, min_samples_split=2;, score=0.956 total time=   0.1s\n",
      "[CV 1/5] END criterion=gini, max_depth=10, min_samples_leaf=2, min_samples_split=5;, score=0.839 total time=   0.1s\n",
      "[CV 2/5] END criterion=gini, max_depth=10, min_samples_leaf=2, min_samples_split=5;, score=0.889 total time=   0.1s\n",
      "[CV 3/5] END criterion=gini, max_depth=10, min_samples_leaf=2, min_samples_split=5;, score=0.965 total time=   0.1s\n",
      "[CV 4/5] END criterion=gini, max_depth=10, min_samples_leaf=2, min_samples_split=5;, score=0.972 total time=   0.1s\n",
      "[CV 5/5] END criterion=gini, max_depth=10, min_samples_leaf=2, min_samples_split=5;, score=0.958 total time=   0.1s\n",
      "[CV 1/5] END criterion=gini, max_depth=20, min_samples_leaf=1, min_samples_split=2;, score=0.831 total time=   0.2s\n",
      "[CV 2/5] END criterion=gini, max_depth=20, min_samples_leaf=1, min_samples_split=2;, score=0.889 total time=   0.2s\n",
      "[CV 3/5] END criterion=gini, max_depth=20, min_samples_leaf=1, min_samples_split=2;, score=0.966 total time=   0.2s\n",
      "[CV 4/5] END criterion=gini, max_depth=20, min_samples_leaf=1, min_samples_split=2;, score=0.969 total time=   0.2s\n",
      "[CV 5/5] END criterion=gini, max_depth=20, min_samples_leaf=1, min_samples_split=2;, score=0.953 total time=   0.2s\n",
      "[CV 1/5] END criterion=gini, max_depth=20, min_samples_leaf=1, min_samples_split=5;, score=0.838 total time=   0.2s\n",
      "[CV 2/5] END criterion=gini, max_depth=20, min_samples_leaf=1, min_samples_split=5;, score=0.882 total time=   0.2s\n",
      "[CV 3/5] END criterion=gini, max_depth=20, min_samples_leaf=1, min_samples_split=5;, score=0.968 total time=   0.2s\n",
      "[CV 4/5] END criterion=gini, max_depth=20, min_samples_leaf=1, min_samples_split=5;, score=0.961 total time=   0.2s\n",
      "[CV 5/5] END criterion=gini, max_depth=20, min_samples_leaf=1, min_samples_split=5;, score=0.956 total time=   0.2s\n",
      "[CV 1/5] END criterion=gini, max_depth=20, min_samples_leaf=2, min_samples_split=2;, score=0.823 total time=   0.2s\n",
      "[CV 2/5] END criterion=gini, max_depth=20, min_samples_leaf=2, min_samples_split=2;, score=0.883 total time=   0.2s\n",
      "[CV 3/5] END criterion=gini, max_depth=20, min_samples_leaf=2, min_samples_split=2;, score=0.969 total time=   0.2s\n",
      "[CV 4/5] END criterion=gini, max_depth=20, min_samples_leaf=2, min_samples_split=2;, score=0.960 total time=   0.2s\n",
      "[CV 5/5] END criterion=gini, max_depth=20, min_samples_leaf=2, min_samples_split=2;, score=0.950 total time=   0.2s\n",
      "[CV 1/5] END criterion=gini, max_depth=20, min_samples_leaf=2, min_samples_split=5;, score=0.843 total time=   0.2s\n",
      "[CV 2/5] END criterion=gini, max_depth=20, min_samples_leaf=2, min_samples_split=5;, score=0.877 total time=   0.2s\n",
      "[CV 3/5] END criterion=gini, max_depth=20, min_samples_leaf=2, min_samples_split=5;, score=0.964 total time=   0.2s\n",
      "[CV 4/5] END criterion=gini, max_depth=20, min_samples_leaf=2, min_samples_split=5;, score=0.956 total time=   0.2s\n",
      "[CV 5/5] END criterion=gini, max_depth=20, min_samples_leaf=2, min_samples_split=5;, score=0.958 total time=   0.2s\n",
      "[CV 1/5] END criterion=entropy, max_depth=None, min_samples_leaf=1, min_samples_split=2;, score=0.832 total time=   0.1s\n",
      "[CV 2/5] END criterion=entropy, max_depth=None, min_samples_leaf=1, min_samples_split=2;, score=0.898 total time=   0.1s\n",
      "[CV 3/5] END criterion=entropy, max_depth=None, min_samples_leaf=1, min_samples_split=2;, score=0.979 total time=   0.2s\n",
      "[CV 4/5] END criterion=entropy, max_depth=None, min_samples_leaf=1, min_samples_split=2;, score=0.970 total time=   0.2s\n",
      "[CV 5/5] END criterion=entropy, max_depth=None, min_samples_leaf=1, min_samples_split=2;, score=0.964 total time=   0.2s\n",
      "[CV 1/5] END criterion=entropy, max_depth=None, min_samples_leaf=1, min_samples_split=5;, score=0.830 total time=   0.1s\n",
      "[CV 2/5] END criterion=entropy, max_depth=None, min_samples_leaf=1, min_samples_split=5;, score=0.906 total time=   0.1s\n",
      "[CV 3/5] END criterion=entropy, max_depth=None, min_samples_leaf=1, min_samples_split=5;, score=0.983 total time=   0.2s\n",
      "[CV 4/5] END criterion=entropy, max_depth=None, min_samples_leaf=1, min_samples_split=5;, score=0.970 total time=   0.2s\n",
      "[CV 5/5] END criterion=entropy, max_depth=None, min_samples_leaf=1, min_samples_split=5;, score=0.956 total time=   0.2s\n",
      "[CV 1/5] END criterion=entropy, max_depth=None, min_samples_leaf=2, min_samples_split=2;, score=0.840 total time=   0.1s\n",
      "[CV 2/5] END criterion=entropy, max_depth=None, min_samples_leaf=2, min_samples_split=2;, score=0.885 total time=   0.1s\n",
      "[CV 3/5] END criterion=entropy, max_depth=None, min_samples_leaf=2, min_samples_split=2;, score=0.976 total time=   0.1s\n",
      "[CV 4/5] END criterion=entropy, max_depth=None, min_samples_leaf=2, min_samples_split=2;, score=0.969 total time=   0.2s\n",
      "[CV 5/5] END criterion=entropy, max_depth=None, min_samples_leaf=2, min_samples_split=2;, score=0.960 total time=   0.1s\n",
      "[CV 1/5] END criterion=entropy, max_depth=None, min_samples_leaf=2, min_samples_split=5;, score=0.836 total time=   0.1s\n",
      "[CV 2/5] END criterion=entropy, max_depth=None, min_samples_leaf=2, min_samples_split=5;, score=0.889 total time=   0.1s\n",
      "[CV 3/5] END criterion=entropy, max_depth=None, min_samples_leaf=2, min_samples_split=5;, score=0.979 total time=   0.1s\n",
      "[CV 4/5] END criterion=entropy, max_depth=None, min_samples_leaf=2, min_samples_split=5;, score=0.968 total time=   0.1s\n",
      "[CV 5/5] END criterion=entropy, max_depth=None, min_samples_leaf=2, min_samples_split=5;, score=0.960 total time=   0.1s\n",
      "[CV 1/5] END criterion=entropy, max_depth=10, min_samples_leaf=1, min_samples_split=2;, score=0.852 total time=   0.1s\n",
      "[CV 2/5] END criterion=entropy, max_depth=10, min_samples_leaf=1, min_samples_split=2;, score=0.901 total time=   0.1s\n",
      "[CV 3/5] END criterion=entropy, max_depth=10, min_samples_leaf=1, min_samples_split=2;, score=0.980 total time=   0.1s\n",
      "[CV 4/5] END criterion=entropy, max_depth=10, min_samples_leaf=1, min_samples_split=2;, score=0.974 total time=   0.1s\n",
      "[CV 5/5] END criterion=entropy, max_depth=10, min_samples_leaf=1, min_samples_split=2;, score=0.954 total time=   0.1s\n",
      "[CV 1/5] END criterion=entropy, max_depth=10, min_samples_leaf=1, min_samples_split=5;, score=0.831 total time=   0.1s\n",
      "[CV 2/5] END criterion=entropy, max_depth=10, min_samples_leaf=1, min_samples_split=5;, score=0.893 total time=   0.1s\n",
      "[CV 3/5] END criterion=entropy, max_depth=10, min_samples_leaf=1, min_samples_split=5;, score=0.981 total time=   0.1s\n",
      "[CV 4/5] END criterion=entropy, max_depth=10, min_samples_leaf=1, min_samples_split=5;, score=0.974 total time=   0.1s\n",
      "[CV 5/5] END criterion=entropy, max_depth=10, min_samples_leaf=1, min_samples_split=5;, score=0.954 total time=   0.1s\n",
      "[CV 1/5] END criterion=entropy, max_depth=10, min_samples_leaf=2, min_samples_split=2;, score=0.844 total time=   0.1s\n",
      "[CV 2/5] END criterion=entropy, max_depth=10, min_samples_leaf=2, min_samples_split=2;, score=0.893 total time=   0.1s\n",
      "[CV 3/5] END criterion=entropy, max_depth=10, min_samples_leaf=2, min_samples_split=2;, score=0.981 total time=   0.1s\n",
      "[CV 4/5] END criterion=entropy, max_depth=10, min_samples_leaf=2, min_samples_split=2;, score=0.973 total time=   0.1s\n",
      "[CV 5/5] END criterion=entropy, max_depth=10, min_samples_leaf=2, min_samples_split=2;, score=0.956 total time=   0.1s\n",
      "[CV 1/5] END criterion=entropy, max_depth=10, min_samples_leaf=2, min_samples_split=5;, score=0.851 total time=   0.1s\n",
      "[CV 2/5] END criterion=entropy, max_depth=10, min_samples_leaf=2, min_samples_split=5;, score=0.890 total time=   0.1s\n",
      "[CV 3/5] END criterion=entropy, max_depth=10, min_samples_leaf=2, min_samples_split=5;, score=0.980 total time=   0.1s\n",
      "[CV 4/5] END criterion=entropy, max_depth=10, min_samples_leaf=2, min_samples_split=5;, score=0.970 total time=   0.1s\n",
      "[CV 5/5] END criterion=entropy, max_depth=10, min_samples_leaf=2, min_samples_split=5;, score=0.958 total time=   0.1s\n",
      "[CV 1/5] END criterion=entropy, max_depth=20, min_samples_leaf=1, min_samples_split=2;, score=0.823 total time=   0.1s\n",
      "[CV 2/5] END criterion=entropy, max_depth=20, min_samples_leaf=1, min_samples_split=2;, score=0.893 total time=   0.1s\n",
      "[CV 3/5] END criterion=entropy, max_depth=20, min_samples_leaf=1, min_samples_split=2;, score=0.983 total time=   0.2s\n",
      "[CV 4/5] END criterion=entropy, max_depth=20, min_samples_leaf=1, min_samples_split=2;, score=0.968 total time=   0.2s\n",
      "[CV 5/5] END criterion=entropy, max_depth=20, min_samples_leaf=1, min_samples_split=2;, score=0.961 total time=   0.2s\n",
      "[CV 1/5] END criterion=entropy, max_depth=20, min_samples_leaf=1, min_samples_split=5;, score=0.831 total time=   0.1s\n",
      "[CV 2/5] END criterion=entropy, max_depth=20, min_samples_leaf=1, min_samples_split=5;, score=0.889 total time=   0.1s\n",
      "[CV 3/5] END criterion=entropy, max_depth=20, min_samples_leaf=1, min_samples_split=5;, score=0.977 total time=   0.2s\n",
      "[CV 4/5] END criterion=entropy, max_depth=20, min_samples_leaf=1, min_samples_split=5;, score=0.970 total time=   0.2s\n",
      "[CV 5/5] END criterion=entropy, max_depth=20, min_samples_leaf=1, min_samples_split=5;, score=0.956 total time=   0.2s\n",
      "[CV 1/5] END criterion=entropy, max_depth=20, min_samples_leaf=2, min_samples_split=2;, score=0.838 total time=   0.1s\n",
      "[CV 2/5] END criterion=entropy, max_depth=20, min_samples_leaf=2, min_samples_split=2;, score=0.890 total time=   0.1s\n",
      "[CV 3/5] END criterion=entropy, max_depth=20, min_samples_leaf=2, min_samples_split=2;, score=0.980 total time=   0.1s\n",
      "[CV 4/5] END criterion=entropy, max_depth=20, min_samples_leaf=2, min_samples_split=2;, score=0.969 total time=   0.1s\n",
      "[CV 5/5] END criterion=entropy, max_depth=20, min_samples_leaf=2, min_samples_split=2;, score=0.964 total time=   0.1s\n",
      "[CV 1/5] END criterion=entropy, max_depth=20, min_samples_leaf=2, min_samples_split=5;, score=0.823 total time=   0.1s\n",
      "[CV 2/5] END criterion=entropy, max_depth=20, min_samples_leaf=2, min_samples_split=5;, score=0.901 total time=   0.1s\n",
      "[CV 3/5] END criterion=entropy, max_depth=20, min_samples_leaf=2, min_samples_split=5;, score=0.977 total time=   0.1s\n",
      "[CV 4/5] END criterion=entropy, max_depth=20, min_samples_leaf=2, min_samples_split=5;, score=0.969 total time=   0.1s\n",
      "[CV 5/5] END criterion=entropy, max_depth=20, min_samples_leaf=2, min_samples_split=5;, score=0.958 total time=   0.1s\n",
      "Best DT: {'criterion': 'entropy', 'max_depth': 10, 'min_samples_leaf': 1, 'min_samples_split': 2}\n"
     ]
    }
   ],
   "execution_count": 25
  },
  {
   "cell_type": "markdown",
   "source": [
    "5. Evaluation and Visualization"
   ],
   "metadata": {
    "id": "A_9twFweU9Sx"
   }
  },
  {
   "cell_type": "code",
   "source": [
    "from sklearn.metrics import classification_report, confusion_matrix\n",
    "\n",
    "for name, model, x in [(\"SVM\", svc, X_tfidf), (\"DT\", dt, X_bow)]:\n",
    "  y_pred = model.predict(x)\n",
    "  print(name, classification_report(df_train[\"label\"], y_pred))\n",
    "  cm = confusion_matrix(df_train[\"label\"], y_pred)\n",
    "  sns.heatmap(cm, annot=True, fmt=\"d\"); plt.title(f\"{name} CM\"); plt.show()"
   ],
   "metadata": {
    "id": "zKKvsOFBVltn",
    "ExecuteTime": {
     "end_time": "2025-06-20T00:26:18.588725Z",
     "start_time": "2025-06-20T00:26:14.953150Z"
    }
   },
   "outputs": [
    {
     "name": "stdout",
     "output_type": "stream",
     "text": [
      "SVM               precision    recall  f1-score   support\n",
      "\n",
      "           0       1.00      1.00      1.00      1864\n",
      "           1       1.00      1.00      1.00      1864\n",
      "\n",
      "    accuracy                           1.00      3728\n",
      "   macro avg       1.00      1.00      1.00      3728\n",
      "weighted avg       1.00      1.00      1.00      3728\n",
      "\n"
     ]
    },
    {
     "data": {
      "text/plain": [
       "<Figure size 640x480 with 2 Axes>"
      ],
      "image/png": "[encoded data removed]"
     },
     "metadata": {},
     "output_type": "display_data"
    },
    {
     "name": "stdout",
     "output_type": "stream",
     "text": [
      "DT               precision    recall  f1-score   support\n",
      "\n",
      "           0       0.98      0.98      0.98      1864\n",
      "           1       0.98      0.98      0.98      1864\n",
      "\n",
      "    accuracy                           0.98      3728\n",
      "   macro avg       0.98      0.98      0.98      3728\n",
      "weighted avg       0.98      0.98      0.98      3728\n",
      "\n"
     ]
    },
    {
     "data": {
      "text/plain": [
       "<Figure size 640x480 with 2 Axes>"
      ],
      "image/png": "[encoded data removed]"
     },
     "metadata": {},
     "output_type": "display_data"
    }
   ],
   "execution_count": 28
  },
  {
   "cell_type": "code",
   "source": [
    "errors = df_train[(y_pred != df_train[\"label\"])]\n",
    "errors[[\"essay\",\"label\"]].head(5)"
   ],
   "metadata": {
    "id": "sY-YR4m2V9oa",
    "ExecuteTime": {
     "end_time": "2025-06-20T00:26:43.920692Z",
     "start_time": "2025-06-20T00:26:43.912494Z"
    }
   },
   "outputs": [
    {
     "data": {
      "text/plain": [
       "                                                essay  label\n",
       "3   It is commonly believed, that companies should...      0\n",
       "12  It indeed appears true that the frequency with...      0\n",
       "44  News reports in the media focus on problems an...      0\n",
       "48  The responsibility for providing funds for ret...      0\n",
       "68  History of human's life enriches us with pivot...      0"
      ],
      "text/html": [
       "<div>\n",
       "<style scoped>\n",
       "    .dataframe tbody tr th:only-of-type {\n",
       "        vertical-align: middle;\n",
       "    }\n",
       "\n",
       "    .dataframe tbody tr th {\n",
       "        vertical-align: top;\n",
       "    }\n",
       "\n",
       "    .dataframe thead th {\n",
       "        text-align: right;\n",
       "    }\n",
       "</style>\n",
       "<table border=\"1\" class=\"dataframe\">\n",
       "  <thead>\n",
       "    <tr style=\"text-align: right;\">\n",
       "      <th></th>\n",
       "      <th>essay</th>\n",
       "      <th>label</th>\n",
       "    </tr>\n",
       "  </thead>\n",
       "  <tbody>\n",
       "    <tr>\n",
       "      <th>3</th>\n",
       "      <td>It is commonly believed, that companies should...</td>\n",
       "      <td>0</td>\n",
       "    </tr>\n",
       "    <tr>\n",
       "      <th>12</th>\n",
       "      <td>It indeed appears true that the frequency with...</td>\n",
       "      <td>0</td>\n",
       "    </tr>\n",
       "    <tr>\n",
       "      <th>44</th>\n",
       "      <td>News reports in the media focus on problems an...</td>\n",
       "      <td>0</td>\n",
       "    </tr>\n",
       "    <tr>\n",
       "      <th>48</th>\n",
       "      <td>The responsibility for providing funds for ret...</td>\n",
       "      <td>0</td>\n",
       "    </tr>\n",
       "    <tr>\n",
       "      <th>68</th>\n",
       "      <td>History of human's life enriches us with pivot...</td>\n",
       "      <td>0</td>\n",
       "    </tr>\n",
       "  </tbody>\n",
       "</table>\n",
       "</div>"
      ]
     },
     "execution_count": 29,
     "metadata": {},
     "output_type": "execute_result"
    }
   ],
   "execution_count": 29
  },
  {
   "cell_type": "markdown",
   "source": [
    "Testing"
   ],
   "metadata": {
    "id": "e3WuTSddWt87"
   }
  },
  {
   "cell_type": "code",
   "source": "df_test = pd.read_csv(\"data/Final_test_data.csv\")",
   "metadata": {
    "id": "K5tGir8PWhej",
    "ExecuteTime": {
     "end_time": "2025-06-20T00:29:30.403625Z",
     "start_time": "2025-06-20T00:29:30.384548Z"
    }
   },
   "outputs": [],
   "execution_count": 41
  },
  {
   "metadata": {
    "ExecuteTime": {
     "end_time": "2025-06-20T00:33:13.928604Z",
     "start_time": "2025-06-20T00:33:12.894560Z"
    }
   },
   "cell_type": "code",
   "source": [
    "X_test = tfidf.transform(df_test[\"essay\"])\n",
    "df_test[\"predicted_label\"] = svc.predict(X_test)\n",
    "df_test[[\"essay\", \"predicted_label\"]].to_csv(\"Turd-Ferguson.csv\", index=False)\n",
    "\n",
    "if df_test[\"predicted_label\"][0] == 0:\n",
    "    print(\"This is most likely written by a human\")\n",
    "else:\n",
    "    print(\"This is most likely AI-Generated\")"
   ],
   "outputs": [
    {
     "name": "stdout",
     "output_type": "stream",
     "text": [
      "This is most likely written by a human\n"
     ]
    }
   ],
   "execution_count": 45
  }
 ]
}
