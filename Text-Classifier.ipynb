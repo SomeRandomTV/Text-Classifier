{
 "nbformat": 4,
 "nbformat_minor": 0,
 "metadata": {
  "colab": {
   "provenance": []
  },
  "kernelspec": {
   "name": "python3",
   "display_name": "Python 3"
  },
  "language_info": {
   "name": "python"
  }
 },
 "cells": [
  {
   "metadata": {
    "ExecuteTime": {
     "end_time": "2025-06-18T20:05:07.423736Z",
     "start_time": "2025-06-18T20:05:01.938263Z"
    }
   },
   "cell_type": "code",
   "source": [
    "# Import necessary libraries for data manipulation, visualization, and machine learning\n",
    "import pandas as pd\n",
    "import matplotlib.pyplot as plt\n",
    "import seaborn as sns\n",
    "\n",
    "# Import spaCy here\n",
    "import spacy\n",
    "\n",
    "# Sklearn libraries for machine learning and text processing\n",
    "from sklearn.model_selection import train_test_split\n",
    "\n",
    "# NLTK libraries for text processing (lemmatization, stemming, stopwords, POS tagging)\n",
    "import nltk\n",
    "\n",
    "# Set up visualization\n",
    "sns.set_style(\"whitegrid\")\n",
    "plt.style.use(\"fivethirtyeight\")\n",
    "\n",
    "# Download necessary NLTK resources for text processing\n",
    "nltk.download('wordnet')  # WordNet for lemmatization\n",
    "nltk.download('omw-1.4')  # Open Multilingual Wordnet\n",
    "nltk.download('punkt')  # Tokenizer\n",
    "nltk.download('stopwords')  # Stopwords for text cleaning\n",
    "nltk.download('averaged_perceptron_tagger')  # POS tagger for part-of-speech tagging\n",
    "nltk.download('tagsets_json')  # Tagset resource\n",
    "\n"
   ],
   "outputs": [
    {
     "name": "stderr",
     "output_type": "stream",
     "text": [
      "[nltk_data] Downloading package wordnet to /Users/retr0/nltk_data...\n",
      "[nltk_data]   Package wordnet is already up-to-date!\n",
      "[nltk_data] Downloading package omw-1.4 to /Users/retr0/nltk_data...\n",
      "[nltk_data]   Package omw-1.4 is already up-to-date!\n",
      "[nltk_data] Downloading package punkt to /Users/retr0/nltk_data...\n",
      "[nltk_data]   Package punkt is already up-to-date!\n",
      "[nltk_data] Downloading package stopwords to /Users/retr0/nltk_data...\n",
      "[nltk_data]   Package stopwords is already up-to-date!\n",
      "[nltk_data] Downloading package averaged_perceptron_tagger to\n",
      "[nltk_data]     /Users/retr0/nltk_data...\n",
      "[nltk_data]   Package averaged_perceptron_tagger is already up-to-\n",
      "[nltk_data]       date!\n",
      "[nltk_data] Downloading package tagsets_json to\n",
      "[nltk_data]     /Users/retr0/nltk_data...\n",
      "[nltk_data]   Package tagsets_json is already up-to-date!\n"
     ]
    },
    {
     "data": {
      "text/plain": [
       "True"
      ]
     },
     "execution_count": 25,
     "metadata": {},
     "output_type": "execute_result"
    }
   ],
   "execution_count": 25
  },
  {
   "cell_type": "markdown",
   "source": [
    "1. Data loading and exploration"
   ],
   "metadata": {
    "id": "y5jsQZoZRn7U"
   }
  },
  {
   "cell_type": "code",
   "source": [
    "#Loading the training set\n",
    "df_train = pd.read_excel('data/AI_vs_huam_train_dataset.xlsx')\n",
    "\n",
    "#Check shape\n",
    "print(\"Dataset shape (rows, columns):\", df_train.shape)\n",
    "\n",
    "#Check Data types\n",
    "print(\"\\nColumn data types:\")\n",
    "print(df_train.dtypes)\n",
    "\n",
    "#View Table\n",
    "print(\"\\nSample rows:\")\n",
    "print(df_train.head())"
   ],
   "metadata": {
    "colab": {
     "base_uri": "https://localhost:8080/"
    },
    "id": "5ubVmuaCFBkc",
    "outputId": "be991cc5-f3f5-4ae8-9195-fe8da7783a5f",
    "ExecuteTime": {
     "end_time": "2025-06-18T21:06:53.094324Z",
     "start_time": "2025-06-18T21:06:52.945201Z"
    }
   },
   "outputs": [
    {
     "name": "stdout",
     "output_type": "stream",
     "text": [
      "Dataset shape (rows, columns): (3728, 2)\n",
      "\n",
      "Column data types:\n",
      "essay    object\n",
      "label     int64\n",
      "dtype: object\n",
      "\n",
      "Sample rows:\n",
      "                                               essay  label\n",
      "0  International sports events require the most w...      0\n",
      "1  Globalisation has become a significant aspect ...      0\n",
      "2  There is an ever-increasing number of bullying...      0\n",
      "3  It is commonly believed, that companies should...      0\n",
      "4  Despite knowing about the adverse effects of c...      0\n"
     ]
    }
   ],
   "execution_count": 37
  },
  {
   "cell_type": "code",
   "source": [
    "#Number of samples and class counts\n",
    "n_samples = len(df_train)\n",
    "class_counts = df_train[\"label\"].value_counts()\n",
    "print(f\"Samples: {n_samples}\")\n",
    "print(\"Class counts:\")\n",
    "print(class_counts)"
   ],
   "metadata": {
    "colab": {
     "base_uri": "https://localhost:8080/"
    },
    "id": "kYs6FFcCoZYl",
    "outputId": "8de72a19-f577-4267-817c-5106655c7a6e",
    "ExecuteTime": {
     "end_time": "2025-06-18T20:05:07.424405Z",
     "start_time": "2025-06-18T20:05:02.168469Z"
    }
   },
   "outputs": [
    {
     "name": "stdout",
     "output_type": "stream",
     "text": [
      "Samples: 3728\n",
      "Class counts:\n",
      "label\n",
      "0    1864\n",
      "1    1864\n",
      "Name: count, dtype: int64\n"
     ]
    }
   ],
   "execution_count": 27
  },
  {
   "cell_type": "code",
   "source": [
    "#One exerpt per class\n",
    "print(\"\\nSample text exerpts:\")\n",
    "for lbl in df_train[\"label\"].unique():\n",
    "    excerpt = df_train[df_train[\"label\"]==lbl][\"essay\"].iloc[0][:200].replace('\\n',' ')\n",
    "    print(f\" Label {lbl} → {excerpt}\")"
   ],
   "metadata": {
    "colab": {
     "base_uri": "https://localhost:8080/"
    },
    "id": "A1iY6PQgoxcR",
    "outputId": "4b06067c-5a3e-4b06-e028-1fd8e7024e54",
    "ExecuteTime": {
     "end_time": "2025-06-18T20:05:07.424976Z",
     "start_time": "2025-06-18T20:05:02.209061Z"
    }
   },
   "outputs": [
    {
     "name": "stdout",
     "output_type": "stream",
     "text": [
      "\n",
      "Sample text exerpts:\n",
      " Label 0 → International sports events require the most well-trained athletes for each country, in order to achieve this goal countries make an effort to build infrastructure designed to train top athletes. Alth\n",
      " Label 1 → International sports events demand that countries field their most highly trained athletes, which is why many nations invest in specialized facilities to help their top performers succeed. While this \n"
     ]
    }
   ],
   "execution_count": 28
  },
  {
   "cell_type": "code",
   "source": [
    "#Dataset Shape table\n",
    "df_shape = pd.DataFrame({\n",
    "    \"Metric\": [\"Rows\", \"Columns\"],\n",
    "    \"Value\": [df_train.shape[0], df_train.shape[1]]\n",
    "})\n",
    "print(\"\\n== Dataset Shape ==\")\n",
    "print(df_shape)\n",
    "\n",
    "df_dtypes = df_train.dtypes.reset_index()\n",
    "df_dtypes.columns = [\"Column\", \"Dtype\"]\n",
    "print(\"\\n== Data Types ==\")\n",
    "print(df_dtypes)\n",
    "\n",
    "class_counts_df = class_counts.reset_index()\n",
    "class_counts_df.columns = [\"Class\", \"Count\"]\n",
    "print(\"\\n== Class Counts ==\")\n",
    "print(class_counts_df)\n",
    "\n",
    "plt.figure(figsize=(6,4))\n",
    "sns.countplot(x=\"label\", data=df_train)\n",
    "plt.title(\"Class Distribution\")\n",
    "plt.xlabel(\"Label\")\n",
    "plt.ylabel(\"Count\")\n",
    "plt.show()"
   ],
   "metadata": {
    "colab": {
     "base_uri": "https://localhost:8080/",
     "height": 703
    },
    "id": "bIV-SUTxpWxY",
    "outputId": "2daea049-68c0-436e-cade-5b7c382a9255",
    "ExecuteTime": {
     "end_time": "2025-06-18T20:05:07.425087Z",
     "start_time": "2025-06-18T20:05:02.251889Z"
    }
   },
   "outputs": [
    {
     "name": "stdout",
     "output_type": "stream",
     "text": [
      "\n",
      "== Dataset Shape ==\n",
      "    Metric  Value\n",
      "0     Rows   3728\n",
      "1  Columns      2\n",
      "\n",
      "== Data Types ==\n",
      "  Column   Dtype\n",
      "0  essay  object\n",
      "1  label   int64\n",
      "\n",
      "== Class Counts ==\n",
      "   Class  Count\n",
      "0      0   1864\n",
      "1      1   1864\n"
     ]
    },
    {
     "data": {
      "text/plain": [
       "<Figure size 600x400 with 1 Axes>"
      ],
      "image/png": "[encoded data removed]"
     },
     "metadata": {},
     "output_type": "display_data"
    }
   ],
   "execution_count": 29
  },
  {
   "cell_type": "markdown",
   "source": [
    "2. Test preprocessing functions"
   ],
   "metadata": {
    "id": "F1wf1JehRY-u"
   }
  },
  {
   "cell_type": "code",
   "source": [
    "#Stopword Removal\n",
    "from nltk.corpus import stopwords\n",
    "sw = set(stopwords.words('english'))\n",
    "\n",
    "def remove_sw(text):\n",
    "  tokens = text.split()\n",
    "  kept = [t for t in tokens if t.lower() not in sw]\n",
    "  return \" \".join(kept)\n",
    "\n",
    "simple = df_train[\"essay\"].iloc[0]\n",
    "print(\"Before:\", simple[:80])\n",
    "print(\"After:\", remove_sw(simple)[:80])"
   ],
   "metadata": {
    "id": "hHbA9YUZtRPE",
    "ExecuteTime": {
     "end_time": "2025-06-18T21:09:37.207975Z",
     "start_time": "2025-06-18T21:09:37.203220Z"
    }
   },
   "outputs": [
    {
     "name": "stdout",
     "output_type": "stream",
     "text": [
      "Before: International sports events require the most well-trained athletes for each coun\n",
      "After: International sports events require well-trained athletes country, order achieve\n"
     ]
    }
   ],
   "execution_count": 43
  },
  {
   "cell_type": "code",
   "source": [
    "#Table for Stopword removal sample\n",
    "\n",
    "sample = df_train[\"essay\"].iloc[0]\n",
    "\n",
    "sw_df = pd.DataFrame({\n",
    "    \"Stage\":   [\"Before\", \"After\"],\n",
    "    \"Excerpt\": [\n",
    "        sample[:80].replace(\"\\n\",\" \"),\n",
    "        remove_sw(sample)[:80].replace(\"\\n\",\" \")\n",
    "    ]\n",
    "})\n",
    "print(\"\\n== Stop-word Removal Sample ==\")\n",
    "print(sw_df)\n",
    "\n",
    "vocab_before = set(\" \".join(df_train[\"essay\"]).split())\n",
    "vocab_after  = set(\" \".join(df_train[\"essay\"].apply(remove_sw)).split())\n",
    "print(\"\\nVocab before:\", len(vocab_before))\n",
    "print(\"Vocab after: \", len(vocab_after))\n"
   ],
   "metadata": {
    "colab": {
     "base_uri": "https://localhost:8080/"
    },
    "id": "uww8DJIYI4kY",
    "outputId": "bc77df21-f0c4-4a82-c5d3-cb62d94631ac",
    "ExecuteTime": {
     "end_time": "2025-06-18T21:07:50.891787Z",
     "start_time": "2025-06-18T21:07:50.654732Z"
    }
   },
   "outputs": [
    {
     "name": "stdout",
     "output_type": "stream",
     "text": [
      "\n",
      "== Stop-word Removal Sample ==\n",
      "    Stage                                            Excerpt\n",
      "0  Before  International sports events require the most w...\n",
      "1   After  International sports events require well-train...\n",
      "\n",
      "Vocab before: 42702\n",
      "Vocab after:  42333\n"
     ]
    }
   ],
   "execution_count": 39
  },
  {
   "cell_type": "code",
   "source": [
    "from nltk.stem import PorterStemmer, SnowballStemmer, LancasterStemmer\n",
    "\n",
    "ps = PorterStemmer()\n",
    "#sb = SnowballStemmer(\"english\")\n",
    "#ls = LancasterStemmer()\n",
    "words = [\"running\", \"ran\", \"runs\"]\n",
    "\n",
    "stems_df = pd.DataFrame({\n",
    "    \"Word\":      words,\n",
    "    \"Porter\":    [ps.stem(w) for w in words],\n",
    "    #\"Snowball\":  [sb.stem(w) for w in words],\n",
    "    #\"Lancaster\": [ls.stem(w) for w in words],\n",
    "})\n",
    "print(\"\\n== Stemming Examples ==\")\n",
    "print(stems_df)"
   ],
   "metadata": {
    "colab": {
     "base_uri": "https://localhost:8080/"
    },
    "id": "sa8bNdPTJZ0S",
    "outputId": "2126a50c-d878-4ce1-d1dc-b702018f8174",
    "ExecuteTime": {
     "end_time": "2025-06-18T20:05:07.425745Z",
     "start_time": "2025-06-18T20:05:02.662675Z"
    }
   },
   "outputs": [
    {
     "name": "stdout",
     "output_type": "stream",
     "text": [
      "\n",
      "== Stemming Examples ==\n",
      "      Word Porter\n",
      "0  running    run\n",
      "1      ran    ran\n",
      "2     runs    run\n"
     ]
    }
   ],
   "execution_count": 32
  },
  {
   "cell_type": "code",
   "source": [
    "from nltk.stem import WordNetLemmatizer\n",
    "\n",
    "wn  = WordNetLemmatizer()\n",
    "nlp = spacy.load(\"en_core_web_sm\")\n",
    "\n",
    "lemmas_df = pd.DataFrame({\n",
    "    \"Word\":        words,\n",
    "    \"NLTK Lemma\":  [wn.lemmatize(w) for w in words],\n",
    "    \"spaCy Lemma\": [nlp(w)[0].lemma_ for w in words],\n",
    "})\n",
    "print(\"\\n== Lemmatization Examples ==\")\n",
    "print(lemmas_df)\n",
    "\n",
    "df_train[\"processed\"] = df_train[\"essay\"].apply(remove_sw)\n",
    "\n",
    "print(\"Raw vs. Processed sample:\")\n",
    "print(df_train[[\"essay\", \"processed\"]].head(1).T)\n",
    "\n",
    "#X_bow   = cv.fit_transform(df_train[\"processed\"])\n",
    "#X_tfidf = tfidf.fit_transform(df_train[\"processed\"])\n",
    "\n",
    "def preprocess_text(text):\n",
    "    no_sw = remove_sw(text)\n",
    "    tokens = no_sw.split()\n",
    "    stems  = [ps.stem(t) for t in tokens]\n",
    "    return \" \".join(stems)\n",
    "\n",
    "df_train[\"processed\"] = df_train[\"essay\"].apply(preprocess_text)"
   ],
   "metadata": {
    "id": "cg6IiahEKmZ5",
    "ExecuteTime": {
     "end_time": "2025-06-18T20:05:07.253972Z",
     "start_time": "2025-06-18T20:05:02.704554Z"
    }
   },
   "outputs": [
    {
     "name": "stdout",
     "output_type": "stream",
     "text": [
      "\n",
      "== Lemmatization Examples ==\n",
      "      Word NLTK Lemma spaCy Lemma\n",
      "0  running    running         run\n",
      "1      ran        ran         run\n",
      "2     runs        run         run\n",
      "Raw vs. Processed sample:\n",
      "                                                           0\n",
      "essay      International sports events require the most w...\n",
      "processed  International sports events require well-train...\n"
     ]
    }
   ],
   "execution_count": 33
  },
  {
   "cell_type": "code",
   "source": [
    "#define X and Y\n",
    "X = df_train[\"processed\"]\n",
    "y = df_train[\"label\"]\n"
   ],
   "metadata": {
    "id": "dnPfxgvvjvUf",
    "ExecuteTime": {
     "end_time": "2025-06-18T20:05:07.294813Z",
     "start_time": "2025-06-18T20:05:07.291311Z"
    }
   },
   "outputs": [],
   "execution_count": 34
  },
  {
   "cell_type": "code",
   "source": [
    "#split train\n",
    "X_train, X_val, y_train, y_val = train_test_split(X, y, test_size=0.2, random_state=42)"
   ],
   "metadata": {
    "id": "NR0VOPSej6j9",
    "ExecuteTime": {
     "end_time": "2025-06-18T20:05:07.337821Z",
     "start_time": "2025-06-18T20:05:07.334212Z"
    }
   },
   "outputs": [],
   "execution_count": 35
  },
  {
   "cell_type": "markdown",
   "source": [
    "3. Feature Extraction"
   ],
   "metadata": {
    "id": "HFQelx1aRKib"
   }
  },
  {
   "cell_type": "code",
   "source": [
    "#using pandas here\n",
    "from sklearn.feature_extraction.text import CountVectorizer, TfidfVectorizer\n",
    "\n",
    "cv = CountVectorizer(token_pattern=r\"/b/w+/b\",\n",
    "     ngram_range=(1,2),\n",
    "     max_features=5000,\n",
    "     min_df=5,\n",
    "     max_df=0.8)\n",
    "\n",
    "#X_bow = cv.fit_transform(df_train[\"processed\"])\n",
    "X_train_data = cv.fit_transform(X_train) #vectorized data\n",
    "X_val_data = cv.transform(X_val)"
   ],
   "metadata": {
    "id": "8d7SaCVTQTDb",
    "ExecuteTime": {
     "end_time": "2025-06-18T20:05:07.409523Z",
     "start_time": "2025-06-18T20:05:07.375193Z"
    }
   },
   "outputs": [
    {
     "ename": "ValueError",
     "evalue": "empty vocabulary; perhaps the documents only contain stop words",
     "output_type": "error",
     "traceback": [
      "\u001B[0;31m---------------------------------------------------------------------------\u001B[0m",
      "\u001B[0;31mValueError\u001B[0m                                Traceback (most recent call last)",
      "Cell \u001B[0;32mIn[36], line 11\u001B[0m\n\u001B[1;32m      4\u001B[0m cv \u001B[38;5;241m=\u001B[39m CountVectorizer(token_pattern\u001B[38;5;241m=\u001B[39m\u001B[38;5;124mr\u001B[39m\u001B[38;5;124m\"\u001B[39m\u001B[38;5;124m/b/w+/b\u001B[39m\u001B[38;5;124m\"\u001B[39m,\n\u001B[1;32m      5\u001B[0m      ngram_range\u001B[38;5;241m=\u001B[39m(\u001B[38;5;241m1\u001B[39m,\u001B[38;5;241m2\u001B[39m),\n\u001B[1;32m      6\u001B[0m      max_features\u001B[38;5;241m=\u001B[39m\u001B[38;5;241m5000\u001B[39m,\n\u001B[1;32m      7\u001B[0m      min_df\u001B[38;5;241m=\u001B[39m\u001B[38;5;241m5\u001B[39m,\n\u001B[1;32m      8\u001B[0m      max_df\u001B[38;5;241m=\u001B[39m\u001B[38;5;241m0.8\u001B[39m)\n\u001B[1;32m     10\u001B[0m \u001B[38;5;66;03m#X_bow = cv.fit_transform(df_train[\"processed\"])\u001B[39;00m\n\u001B[0;32m---> 11\u001B[0m X_train_data \u001B[38;5;241m=\u001B[39m cv\u001B[38;5;241m.\u001B[39mfit_transform(X_train) \u001B[38;5;66;03m#vectorized data\u001B[39;00m\n\u001B[1;32m     12\u001B[0m X_val_data \u001B[38;5;241m=\u001B[39m cv\u001B[38;5;241m.\u001B[39mtransform(X_val)\n",
      "File \u001B[0;32m/opt/anaconda3/lib/python3.12/site-packages/sklearn/base.py:1473\u001B[0m, in \u001B[0;36m_fit_context.<locals>.decorator.<locals>.wrapper\u001B[0;34m(estimator, *args, **kwargs)\u001B[0m\n\u001B[1;32m   1466\u001B[0m     estimator\u001B[38;5;241m.\u001B[39m_validate_params()\n\u001B[1;32m   1468\u001B[0m \u001B[38;5;28;01mwith\u001B[39;00m config_context(\n\u001B[1;32m   1469\u001B[0m     skip_parameter_validation\u001B[38;5;241m=\u001B[39m(\n\u001B[1;32m   1470\u001B[0m         prefer_skip_nested_validation \u001B[38;5;129;01mor\u001B[39;00m global_skip_validation\n\u001B[1;32m   1471\u001B[0m     )\n\u001B[1;32m   1472\u001B[0m ):\n\u001B[0;32m-> 1473\u001B[0m     \u001B[38;5;28;01mreturn\u001B[39;00m fit_method(estimator, \u001B[38;5;241m*\u001B[39margs, \u001B[38;5;241m*\u001B[39m\u001B[38;5;241m*\u001B[39mkwargs)\n",
      "File \u001B[0;32m/opt/anaconda3/lib/python3.12/site-packages/sklearn/feature_extraction/text.py:1372\u001B[0m, in \u001B[0;36mCountVectorizer.fit_transform\u001B[0;34m(self, raw_documents, y)\u001B[0m\n\u001B[1;32m   1364\u001B[0m             warnings\u001B[38;5;241m.\u001B[39mwarn(\n\u001B[1;32m   1365\u001B[0m                 \u001B[38;5;124m\"\u001B[39m\u001B[38;5;124mUpper case characters found in\u001B[39m\u001B[38;5;124m\"\u001B[39m\n\u001B[1;32m   1366\u001B[0m                 \u001B[38;5;124m\"\u001B[39m\u001B[38;5;124m vocabulary while \u001B[39m\u001B[38;5;124m'\u001B[39m\u001B[38;5;124mlowercase\u001B[39m\u001B[38;5;124m'\u001B[39m\u001B[38;5;124m\"\u001B[39m\n\u001B[1;32m   1367\u001B[0m                 \u001B[38;5;124m\"\u001B[39m\u001B[38;5;124m is True. These entries will not\u001B[39m\u001B[38;5;124m\"\u001B[39m\n\u001B[1;32m   1368\u001B[0m                 \u001B[38;5;124m\"\u001B[39m\u001B[38;5;124m be matched with any documents\u001B[39m\u001B[38;5;124m\"\u001B[39m\n\u001B[1;32m   1369\u001B[0m             )\n\u001B[1;32m   1370\u001B[0m             \u001B[38;5;28;01mbreak\u001B[39;00m\n\u001B[0;32m-> 1372\u001B[0m vocabulary, X \u001B[38;5;241m=\u001B[39m \u001B[38;5;28mself\u001B[39m\u001B[38;5;241m.\u001B[39m_count_vocab(raw_documents, \u001B[38;5;28mself\u001B[39m\u001B[38;5;241m.\u001B[39mfixed_vocabulary_)\n\u001B[1;32m   1374\u001B[0m \u001B[38;5;28;01mif\u001B[39;00m \u001B[38;5;28mself\u001B[39m\u001B[38;5;241m.\u001B[39mbinary:\n\u001B[1;32m   1375\u001B[0m     X\u001B[38;5;241m.\u001B[39mdata\u001B[38;5;241m.\u001B[39mfill(\u001B[38;5;241m1\u001B[39m)\n",
      "File \u001B[0;32m/opt/anaconda3/lib/python3.12/site-packages/sklearn/feature_extraction/text.py:1278\u001B[0m, in \u001B[0;36mCountVectorizer._count_vocab\u001B[0;34m(self, raw_documents, fixed_vocab)\u001B[0m\n\u001B[1;32m   1276\u001B[0m     vocabulary \u001B[38;5;241m=\u001B[39m \u001B[38;5;28mdict\u001B[39m(vocabulary)\n\u001B[1;32m   1277\u001B[0m     \u001B[38;5;28;01mif\u001B[39;00m \u001B[38;5;129;01mnot\u001B[39;00m vocabulary:\n\u001B[0;32m-> 1278\u001B[0m         \u001B[38;5;28;01mraise\u001B[39;00m \u001B[38;5;167;01mValueError\u001B[39;00m(\n\u001B[1;32m   1279\u001B[0m             \u001B[38;5;124m\"\u001B[39m\u001B[38;5;124mempty vocabulary; perhaps the documents only contain stop words\u001B[39m\u001B[38;5;124m\"\u001B[39m\n\u001B[1;32m   1280\u001B[0m         )\n\u001B[1;32m   1282\u001B[0m \u001B[38;5;28;01mif\u001B[39;00m indptr[\u001B[38;5;241m-\u001B[39m\u001B[38;5;241m1\u001B[39m] \u001B[38;5;241m>\u001B[39m np\u001B[38;5;241m.\u001B[39miinfo(np\u001B[38;5;241m.\u001B[39mint32)\u001B[38;5;241m.\u001B[39mmax:  \u001B[38;5;66;03m# = 2**31 - 1\u001B[39;00m\n\u001B[1;32m   1283\u001B[0m     \u001B[38;5;28;01mif\u001B[39;00m _IS_32BIT:\n",
      "\u001B[0;31mValueError\u001B[0m: empty vocabulary; perhaps the documents only contain stop words"
     ]
    }
   ],
   "execution_count": 36
  },
  {
   "cell_type": "code",
   "source": [
    "print(\"BoW matrix shape (docs × features):\", X_bow.shape)\n",
    "bow_shape_df = pd.DataFrame({\n",
    "    \"Metric\":  [\"Documents\", \"Features\"],\n",
    "    \"Value\":   [X_bow.shape[0], X_bow.shape[1]]\n",
    "})\n",
    "print(\"\\n== BoW Shape ==\")\n",
    "print(bow_shape_df)"
   ],
   "metadata": {
    "id": "sf9YHHZTQveY"
   },
   "execution_count": null,
   "outputs": []
  },
  {
   "cell_type": "code",
   "source": [
    "feat10 = cv.get_feature_names_out()[:10]\n",
    "feat_df = pd.DataFrame({\"First 10 Features\": feat10})\n",
    "print(\"\\n== Sample BoW Features ==\")\n",
    "print(feat_df)"
   ],
   "metadata": {
    "id": "g213L74QomNe"
   },
   "execution_count": null,
   "outputs": []
  },
  {
   "cell_type": "code",
   "source": [
    "tfidf = TfidfVectorizer(\n",
    "    token_pattern=r\"\\b\\w+\\b\",\n",
    "    ngram_range=(1,3),    # unigrams + bigrams + trigrams\n",
    "    max_features=5000,\n",
    "    min_df=5,\n",
    "    max_df=0.8\n",
    ")\n",
    "\n",
    "X_tfidf = tfidf.fit_transform(df_train[\"processed\"] if \"processed\" in df_train else df_train[\"essay\"])\n",
    "\n",
    "#Matrix shape\n",
    "print(\"\\nTF-IDF matrix shape (docs × features):\", X_tfidf.shape)\n",
    "tfidf_shape_df = pd.DataFrame({\n",
    "    \"Metric\":  [\"Documents\", \"Features\"],\n",
    "    \"Value\":   [X_tfidf.shape[0], X_tfidf.shape[1]]\n",
    "})\n",
    "print(\"\\n== TF-IDF Shape ==\")\n",
    "print(tfidf_shape_df)\n",
    "\n",
    "#Sample feature names\n",
    "tf10 = tfidf.get_feature_names_out()[:10]\n",
    "tfidf_feat_df = pd.DataFrame({\"First 10 TF-IDF Features\": tf10})\n",
    "print(\"\\n== Sample TF-IDF Features ==\")\n",
    "print(tfidf_feat_df)"
   ],
   "metadata": {
    "id": "rpquF0zMopDb"
   },
   "execution_count": null,
   "outputs": []
  },
  {
   "cell_type": "markdown",
   "source": [
    "4. Model training and hyperparameter tuning"
   ],
   "metadata": {
    "id": "DUisFlCHR0_S"
   }
  },
  {
   "cell_type": "code",
   "source": [
    "from sklearn.svm import SVC\n",
    "from sklearn.model_selection import GridSearchCV\n",
    "#rbf goes to its own function\n",
    "params = {\"kernel\": [\"linear\", \"rbf\"], \"C\":[0.1,1,10]}\n",
    "svc = GridSearchCV(SVC(), params, cv=5, scoring=\"f1_macro\")\n",
    "svc.fit(X_tfidf, df_train[\"label\"])\n",
    "print(\"Best SVM:\", svc.best_params_)"
   ],
   "metadata": {
    "id": "IWjo-0axSkO3"
   },
   "execution_count": null,
   "outputs": []
  },
  {
   "cell_type": "code",
   "source": [
    "from sklearn.tree import DecisionTreeClassifier\n",
    "from sklearn.model_selection import GridSearchCV\n",
    "\n",
    "param_grid = [\n",
    "  {'C': [1, 10, 100, 1000], 'kernel': ['linear']},\n",
    "  {'C': [1, 10, 100, 1000], 'gamma': [0.001, 0.0001], 'kernel': ['rbf']},\n",
    " ]\n",
    "\n",
    "params = {\n",
    "    \"criterion\": [\"gini\", \"entropy\"],\n",
    "    \"max_depth\": [None, 10, 20],\n",
    "    \"min_samples_split\": [2, 5],\n",
    "    \"max_samples_leaf\": [1,2]\n",
    "}\n",
    "dt = GridSearchCV(DecisionTreeClassifier(), params, cv=5, scoring=\"f1_macro\")\n",
    "dt.fit(X_bow, df_train[\"label\"])\n",
    "print(\"Best DT:\", dt.best_params_)"
   ],
   "metadata": {
    "id": "xCxslBOCTQRR"
   },
   "execution_count": null,
   "outputs": []
  },
  {
   "cell_type": "markdown",
   "source": [
    "5. Evaluation and Visualization"
   ],
   "metadata": {
    "id": "A_9twFweU9Sx"
   }
  },
  {
   "cell_type": "code",
   "source": [
    "from sklearn.metrics import classification_report, confusion_matrix\n",
    "\n",
    "for name, model, x in [(\"SVM\", svc, X_tfidf), (\"DT\", dt, X_box)]:\n",
    "  y_pred = model.predict(x)\n",
    "  print(name, classification_report(df_train[\"label\"], preds))\n",
    "  cm = confusion_matrix(df_train[\"label\"], preds)\n",
    "  sns.heatmap(cm, annot=True, fmt=\"d\"); plt.title(f\"{name} CM\"); plt.show()"
   ],
   "metadata": {
    "id": "zKKvsOFBVltn"
   },
   "execution_count": null,
   "outputs": []
  },
  {
   "cell_type": "code",
   "source": [
    "errors = df_train[(preds != df_train[\"label\"])]\n",
    "errors[[\"essay\",\"label\"]].head(5)"
   ],
   "metadata": {
    "id": "sY-YR4m2V9oa"
   },
   "execution_count": null,
   "outputs": []
  },
  {
   "cell_type": "markdown",
   "source": [
    "Testing"
   ],
   "metadata": {
    "id": "e3WuTSddWt87"
   }
  },
  {
   "cell_type": "code",
   "source": [
    "X_test = tfidf.transform(df_test[\"essay\"])\n",
    "df_test[\"predicted_label\"] = svc.predict(X_test)\n",
    "df_test[[\"essay_id\", \"predicted_label\"]].to_csv(\"YourName_test.csv\", index=False)"
   ],
   "metadata": {
    "id": "K5tGir8PWhej"
   },
   "execution_count": null,
   "outputs": []
  }
 ]
}
